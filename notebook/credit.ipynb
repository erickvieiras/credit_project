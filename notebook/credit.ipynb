{
 "cells": [
  {
   "cell_type": "markdown",
   "metadata": {},
   "source": [
    "# RISK ANALYSIS AND CREDIT GRANT"
   ]
  },
  {
   "cell_type": "markdown",
   "metadata": {},
   "source": [
    "## SOLUTION PLANNING"
   ]
  },
  {
   "cell_type": "code",
   "execution_count": null,
   "metadata": {},
   "outputs": [],
   "source": []
  },
  {
   "cell_type": "code",
   "execution_count": null,
   "metadata": {},
   "outputs": [],
   "source": []
  },
  {
   "cell_type": "markdown",
   "metadata": {},
   "source": [
    "# 1.0 - IMPORTS\n"
   ]
  },
  {
   "cell_type": "markdown",
   "metadata": {},
   "source": [
    "## 1.1 - LIBRARIES"
   ]
  },
  {
   "cell_type": "code",
   "execution_count": 523,
   "metadata": {},
   "outputs": [],
   "source": [
    "import pandas               as pd\n",
    "import numpy                as np\n",
    "import inflection\n",
    "import matplotlib.pyplot    as plt\n",
    "import seaborn              as sns\n",
    "import re\n",
    "from imblearn.over_sampling import SMOTE\n",
    "from collections            import Counter\n",
    "from sklearn.preprocessing  import StandardScaler"
   ]
  },
  {
   "cell_type": "markdown",
   "metadata": {},
   "source": [
    "## 1.2 - LOAD DATA"
   ]
  },
  {
   "cell_type": "code",
   "execution_count": 524,
   "metadata": {},
   "outputs": [],
   "source": [
    "df_raw = pd.read_csv('../dataset/credit_analysis.csv')"
   ]
  },
  {
   "cell_type": "markdown",
   "metadata": {},
   "source": [
    "## 1.3 - HELPER FUNCTIONS"
   ]
  },
  {
   "cell_type": "markdown",
   "metadata": {},
   "source": [
    "### 1.3.1 - PLOT DIMENSIONS"
   ]
  },
  {
   "cell_type": "code",
   "execution_count": 525,
   "metadata": {},
   "outputs": [],
   "source": [
    "sns.set_theme(rc = {'figure.figsize':(13,5)})\n"
   ]
  },
  {
   "cell_type": "markdown",
   "metadata": {},
   "source": [
    "### 1.3.2 - OUTLIERS VOLUMETRY"
   ]
  },
  {
   "cell_type": "code",
   "execution_count": 526,
   "metadata": {},
   "outputs": [],
   "source": [
    "def outliers_volumetry(data):\n",
    "    \n",
    "    df_num = pd.DataFrame()\n",
    "    df_num = data.select_dtypes(exclude = 'object')\n",
    "    outlier = []\n",
    "\n",
    "    for i in df_num.columns:\n",
    "        q1 = np.quantile(df_num[i], 0.25)\n",
    "        q3 = np.quantile(df_num[i], 0.75)\n",
    "        interquartile_distance = q3 - q1\n",
    "        upper_limit = q3 + 1.5 * interquartile_distance\n",
    "        lower_limit = q1 - 1.5 * interquartile_distance\n",
    "        outliers = 0\n",
    "        for j in df_num.index:\n",
    "            if df_num[i][j] > upper_limit:\n",
    "                outliers = outliers + 1\n",
    "            elif df_num[i][j] < lower_limit:\n",
    "                outliers = outliers + 1\n",
    "            else:\n",
    "                pass\n",
    "\n",
    "        outlier.append(outliers)\n",
    "\n",
    "    df_outlier = pd.DataFrame()\n",
    "    df_outlier['attributes']    = df_num.columns\n",
    "    df_outlier['quantity']      =   outlier\n",
    "    df_outlier['percentual']    =   (outlier/df_num['customer_id'].count())*100\n",
    "    df_outlier['percentual'] = df_outlier['percentual'].apply(lambda x: f\"{x:.2f}%\")\n",
    "\n",
    "    return df_outlier    "
   ]
  },
  {
   "cell_type": "markdown",
   "metadata": {},
   "source": [
    "# 2.0 - DATA DESCRIPTION"
   ]
  },
  {
   "cell_type": "code",
   "execution_count": 527,
   "metadata": {},
   "outputs": [],
   "source": [
    "df2 = df_raw.copy()"
   ]
  },
  {
   "cell_type": "markdown",
   "metadata": {},
   "source": [
    "## 2.1 - DATA DIMENSION"
   ]
  },
  {
   "cell_type": "code",
   "execution_count": 528,
   "metadata": {},
   "outputs": [
    {
     "name": "stdout",
     "output_type": "stream",
     "text": [
      "Number of Rows: 100000\n",
      "Number of Columns: 26\n",
      "Number of unique features\n"
     ]
    },
    {
     "data": {
      "text/plain": [
       "Unnamed: 0             100000\n",
       "customer id             12500\n",
       "day month                   8\n",
       "age                        43\n",
       "occupation                 15\n",
       "annual salary           12488\n",
       "num bank accounts          12\n",
       "cards num                  12\n",
       "loan interest              34\n",
       "num loans                  10\n",
       "days late payment          63\n",
       "qtd late payments          26\n",
       "credit checks              18\n",
       "credit mix                  3\n",
       "total debt              12203\n",
       "credit usage fee       100000\n",
       "credit history age        404\n",
       "monthly investment      12261\n",
       "payment behavior            6\n",
       "final balance month     98494\n",
       "credit score                3\n",
       "car loan                    2\n",
       "home loan                   2\n",
       "personal loan               2\n",
       "credit loan                 2\n",
       "student loan                2\n",
       "dtype: int64"
      ]
     },
     "execution_count": 528,
     "metadata": {},
     "output_type": "execute_result"
    }
   ],
   "source": [
    "print('Number of Rows: {}'.format(df2.shape[0]))\n",
    "print('Number of Columns: {}'.format(df2.shape[1]))\n",
    "print('Number of unique features')\n",
    "df2.apply(lambda x: x.nunique())"
   ]
  },
  {
   "cell_type": "markdown",
   "metadata": {},
   "source": [
    "## 2.2 - RENAME COLUMNS"
   ]
  },
  {
   "cell_type": "code",
   "execution_count": 529,
   "metadata": {},
   "outputs": [
    {
     "data": {
      "text/plain": [
       "Index(['Unnamed: 0', 'customer id', 'day month', 'age', 'occupation',\n",
       "       'annual salary', 'num bank accounts', 'cards num', 'loan interest',\n",
       "       'num loans', 'days late payment', 'qtd late payments', 'credit checks',\n",
       "       'credit mix', 'total debt', 'credit usage fee', 'credit history age',\n",
       "       'monthly investment', 'payment behavior', 'final balance month',\n",
       "       'credit score', 'car loan', 'home loan', 'personal loan', 'credit loan',\n",
       "       'student loan'],\n",
       "      dtype='object')"
      ]
     },
     "execution_count": 529,
     "metadata": {},
     "output_type": "execute_result"
    }
   ],
   "source": [
    "df2.columns"
   ]
  },
  {
   "cell_type": "code",
   "execution_count": 530,
   "metadata": {},
   "outputs": [],
   "source": [
    "df2 = df2.drop(columns = {'Unnamed: 0'}, axis=1)\n"
   ]
  },
  {
   "cell_type": "code",
   "execution_count": 531,
   "metadata": {},
   "outputs": [
    {
     "data": {
      "text/plain": [
       "Index(['customer_id', 'day_month', 'age', 'occupation', 'annual_salary',\n",
       "       'num_bank_accounts', 'cards_num', 'loan_interest', 'num_loans',\n",
       "       'days_late_payment', 'qtd_late_payments', 'credit_checks', 'credit_mix',\n",
       "       'total_debt', 'credit_usage_fee', 'credit_history_age',\n",
       "       'monthly_investment', 'payment_behavior', 'final_balance_month',\n",
       "       'credit_score', 'car_loan', 'home_loan', 'personal_loan', 'credit_loan',\n",
       "       'student_loan'],\n",
       "      dtype='object')"
      ]
     },
     "execution_count": 531,
     "metadata": {},
     "output_type": "execute_result"
    }
   ],
   "source": [
    "def to_snake_case(column_name):\n",
    "    # Substituir espaços por underscores\n",
    "    column_name = column_name.replace(' ', '_')\n",
    "    # Colocar um sublinhado antes das letras maiúsculas e converter para minúsculas\n",
    "    s1 = re.sub('(.)([A-Z][a-z]+)', r'\\1_\\2', column_name)\n",
    "    return re.sub('([a-z0-9])([A-Z])', r'\\1_\\2', s1).lower()\n",
    "\n",
    "# Atualizando os nomes das colunas no DataFrame\n",
    "old_columns = df2.columns\n",
    "new_columns = [to_snake_case(col) for col in old_columns]\n",
    "df2.columns = new_columns\n",
    "\n",
    "# Verificando o resultado final\n",
    "df2.columns"
   ]
  },
  {
   "cell_type": "markdown",
   "metadata": {},
   "source": [
    "## 2.3 - DATA TYPES"
   ]
  },
  {
   "cell_type": "code",
   "execution_count": 532,
   "metadata": {},
   "outputs": [
    {
     "data": {
      "text/plain": [
       "customer_id              int64\n",
       "day_month                int64\n",
       "age                    float64\n",
       "occupation              object\n",
       "annual_salary          float64\n",
       "num_bank_accounts      float64\n",
       "cards_num              float64\n",
       "loan_interest          float64\n",
       "num_loans              float64\n",
       "days_late_payment      float64\n",
       "qtd_late_payments      float64\n",
       "credit_checks          float64\n",
       "credit_mix              object\n",
       "total_debt             float64\n",
       "credit_usage_fee       float64\n",
       "credit_history_age     float64\n",
       "monthly_investment     float64\n",
       "payment_behavior        object\n",
       "final_balance_month    float64\n",
       "credit_score            object\n",
       "car_loan                 int64\n",
       "home_loan                int64\n",
       "personal_loan            int64\n",
       "credit_loan              int64\n",
       "student_loan             int64\n",
       "dtype: object"
      ]
     },
     "execution_count": 532,
     "metadata": {},
     "output_type": "execute_result"
    }
   ],
   "source": [
    "df2.dtypes"
   ]
  },
  {
   "cell_type": "code",
   "execution_count": 533,
   "metadata": {},
   "outputs": [],
   "source": [
    "df2['age'] = df2['age'].astype(int)"
   ]
  },
  {
   "cell_type": "markdown",
   "metadata": {},
   "source": [
    "## 2.4 - NA VOLUMETRY"
   ]
  },
  {
   "cell_type": "code",
   "execution_count": 534,
   "metadata": {},
   "outputs": [
    {
     "data": {
      "text/plain": [
       "customer_id            0\n",
       "day_month              0\n",
       "age                    0\n",
       "occupation             0\n",
       "annual_salary          0\n",
       "num_bank_accounts      0\n",
       "cards_num              0\n",
       "loan_interest          0\n",
       "num_loans              0\n",
       "days_late_payment      0\n",
       "qtd_late_payments      0\n",
       "credit_checks          0\n",
       "credit_mix             0\n",
       "total_debt             0\n",
       "credit_usage_fee       0\n",
       "credit_history_age     0\n",
       "monthly_investment     0\n",
       "payment_behavior       0\n",
       "final_balance_month    0\n",
       "credit_score           0\n",
       "car_loan               0\n",
       "home_loan              0\n",
       "personal_loan          0\n",
       "credit_loan            0\n",
       "student_loan           0\n",
       "dtype: int64"
      ]
     },
     "execution_count": 534,
     "metadata": {},
     "output_type": "execute_result"
    }
   ],
   "source": [
    "df2.isna().sum()"
   ]
  },
  {
   "cell_type": "markdown",
   "metadata": {},
   "source": [
    "## 2.5 - OUTLIER VOLUMETRY"
   ]
  },
  {
   "cell_type": "code",
   "execution_count": 535,
   "metadata": {},
   "outputs": [
    {
     "data": {
      "text/html": [
       "<div>\n",
       "<style scoped>\n",
       "    .dataframe tbody tr th:only-of-type {\n",
       "        vertical-align: middle;\n",
       "    }\n",
       "\n",
       "    .dataframe tbody tr th {\n",
       "        vertical-align: top;\n",
       "    }\n",
       "\n",
       "    .dataframe thead th {\n",
       "        text-align: right;\n",
       "    }\n",
       "</style>\n",
       "<table border=\"1\" class=\"dataframe\">\n",
       "  <thead>\n",
       "    <tr style=\"text-align: right;\">\n",
       "      <th></th>\n",
       "      <th>attributes</th>\n",
       "      <th>quantity</th>\n",
       "      <th>percentual</th>\n",
       "    </tr>\n",
       "  </thead>\n",
       "  <tbody>\n",
       "    <tr>\n",
       "      <th>0</th>\n",
       "      <td>customer_id</td>\n",
       "      <td>0</td>\n",
       "      <td>0.00%</td>\n",
       "    </tr>\n",
       "    <tr>\n",
       "      <th>1</th>\n",
       "      <td>day_month</td>\n",
       "      <td>0</td>\n",
       "      <td>0.00%</td>\n",
       "    </tr>\n",
       "    <tr>\n",
       "      <th>2</th>\n",
       "      <td>age</td>\n",
       "      <td>0</td>\n",
       "      <td>0.00%</td>\n",
       "    </tr>\n",
       "    <tr>\n",
       "      <th>3</th>\n",
       "      <td>annual_salary</td>\n",
       "      <td>2000</td>\n",
       "      <td>2.00%</td>\n",
       "    </tr>\n",
       "    <tr>\n",
       "      <th>4</th>\n",
       "      <td>num_bank_accounts</td>\n",
       "      <td>0</td>\n",
       "      <td>0.00%</td>\n",
       "    </tr>\n",
       "    <tr>\n",
       "      <th>5</th>\n",
       "      <td>cards_num</td>\n",
       "      <td>0</td>\n",
       "      <td>0.00%</td>\n",
       "    </tr>\n",
       "    <tr>\n",
       "      <th>6</th>\n",
       "      <td>loan_interest</td>\n",
       "      <td>0</td>\n",
       "      <td>0.00%</td>\n",
       "    </tr>\n",
       "    <tr>\n",
       "      <th>7</th>\n",
       "      <td>num_loans</td>\n",
       "      <td>0</td>\n",
       "      <td>0.00%</td>\n",
       "    </tr>\n",
       "    <tr>\n",
       "      <th>8</th>\n",
       "      <td>days_late_payment</td>\n",
       "      <td>4002</td>\n",
       "      <td>4.00%</td>\n",
       "    </tr>\n",
       "    <tr>\n",
       "      <th>9</th>\n",
       "      <td>qtd_late_payments</td>\n",
       "      <td>0</td>\n",
       "      <td>0.00%</td>\n",
       "    </tr>\n",
       "    <tr>\n",
       "      <th>10</th>\n",
       "      <td>credit_checks</td>\n",
       "      <td>787</td>\n",
       "      <td>0.79%</td>\n",
       "    </tr>\n",
       "    <tr>\n",
       "      <th>11</th>\n",
       "      <td>total_debt</td>\n",
       "      <td>5272</td>\n",
       "      <td>5.27%</td>\n",
       "    </tr>\n",
       "    <tr>\n",
       "      <th>12</th>\n",
       "      <td>credit_usage_fee</td>\n",
       "      <td>4</td>\n",
       "      <td>0.00%</td>\n",
       "    </tr>\n",
       "    <tr>\n",
       "      <th>13</th>\n",
       "      <td>credit_history_age</td>\n",
       "      <td>0</td>\n",
       "      <td>0.00%</td>\n",
       "    </tr>\n",
       "    <tr>\n",
       "      <th>14</th>\n",
       "      <td>monthly_investment</td>\n",
       "      <td>4464</td>\n",
       "      <td>4.46%</td>\n",
       "    </tr>\n",
       "    <tr>\n",
       "      <th>15</th>\n",
       "      <td>final_balance_month</td>\n",
       "      <td>7400</td>\n",
       "      <td>7.40%</td>\n",
       "    </tr>\n",
       "    <tr>\n",
       "      <th>16</th>\n",
       "      <td>car_loan</td>\n",
       "      <td>0</td>\n",
       "      <td>0.00%</td>\n",
       "    </tr>\n",
       "    <tr>\n",
       "      <th>17</th>\n",
       "      <td>home_loan</td>\n",
       "      <td>0</td>\n",
       "      <td>0.00%</td>\n",
       "    </tr>\n",
       "    <tr>\n",
       "      <th>18</th>\n",
       "      <td>personal_loan</td>\n",
       "      <td>0</td>\n",
       "      <td>0.00%</td>\n",
       "    </tr>\n",
       "    <tr>\n",
       "      <th>19</th>\n",
       "      <td>credit_loan</td>\n",
       "      <td>0</td>\n",
       "      <td>0.00%</td>\n",
       "    </tr>\n",
       "    <tr>\n",
       "      <th>20</th>\n",
       "      <td>student_loan</td>\n",
       "      <td>0</td>\n",
       "      <td>0.00%</td>\n",
       "    </tr>\n",
       "  </tbody>\n",
       "</table>\n",
       "</div>"
      ],
      "text/plain": [
       "             attributes  quantity percentual\n",
       "0           customer_id         0      0.00%\n",
       "1             day_month         0      0.00%\n",
       "2                   age         0      0.00%\n",
       "3         annual_salary      2000      2.00%\n",
       "4     num_bank_accounts         0      0.00%\n",
       "5             cards_num         0      0.00%\n",
       "6         loan_interest         0      0.00%\n",
       "7             num_loans         0      0.00%\n",
       "8     days_late_payment      4002      4.00%\n",
       "9     qtd_late_payments         0      0.00%\n",
       "10        credit_checks       787      0.79%\n",
       "11           total_debt      5272      5.27%\n",
       "12     credit_usage_fee         4      0.00%\n",
       "13   credit_history_age         0      0.00%\n",
       "14   monthly_investment      4464      4.46%\n",
       "15  final_balance_month      7400      7.40%\n",
       "16             car_loan         0      0.00%\n",
       "17            home_loan         0      0.00%\n",
       "18        personal_loan         0      0.00%\n",
       "19          credit_loan         0      0.00%\n",
       "20         student_loan         0      0.00%"
      ]
     },
     "execution_count": 535,
     "metadata": {},
     "output_type": "execute_result"
    }
   ],
   "source": [
    "outliers_volumetry(df2)"
   ]
  },
  {
   "cell_type": "markdown",
   "metadata": {},
   "source": [
    "# 3.0 - DESCRIPTIVE STATISTICAL"
   ]
  },
  {
   "cell_type": "code",
   "execution_count": 536,
   "metadata": {},
   "outputs": [],
   "source": [
    "df3 = df2.copy()"
   ]
  },
  {
   "cell_type": "code",
   "execution_count": 537,
   "metadata": {},
   "outputs": [],
   "source": [
    "num_attributes = df3.select_dtypes(include = ['int64', 'float64'])\n",
    "cat_attributes = df3.select_dtypes(include = 'object')"
   ]
  },
  {
   "cell_type": "code",
   "execution_count": 538,
   "metadata": {},
   "outputs": [
    {
     "data": {
      "text/html": [
       "<div>\n",
       "<style scoped>\n",
       "    .dataframe tbody tr th:only-of-type {\n",
       "        vertical-align: middle;\n",
       "    }\n",
       "\n",
       "    .dataframe tbody tr th {\n",
       "        vertical-align: top;\n",
       "    }\n",
       "\n",
       "    .dataframe thead th {\n",
       "        text-align: right;\n",
       "    }\n",
       "</style>\n",
       "<table border=\"1\" class=\"dataframe\">\n",
       "  <thead>\n",
       "    <tr style=\"text-align: right;\">\n",
       "      <th></th>\n",
       "      <th>attributes</th>\n",
       "      <th>min</th>\n",
       "      <th>max</th>\n",
       "      <th>range</th>\n",
       "      <th>mean</th>\n",
       "      <th>mediana</th>\n",
       "      <th>std</th>\n",
       "      <th>skew</th>\n",
       "      <th>kurtosis</th>\n",
       "    </tr>\n",
       "  </thead>\n",
       "  <tbody>\n",
       "    <tr>\n",
       "      <th>0</th>\n",
       "      <td>customer_id</td>\n",
       "      <td>1006.00000</td>\n",
       "      <td>50999.000000</td>\n",
       "      <td>49993.000000</td>\n",
       "      <td>25982.666640</td>\n",
       "      <td>25777.000000</td>\n",
       "      <td>14340.471348</td>\n",
       "      <td>0.011057</td>\n",
       "      <td>-1.187935</td>\n",
       "    </tr>\n",
       "    <tr>\n",
       "      <th>1</th>\n",
       "      <td>day_month</td>\n",
       "      <td>1.00000</td>\n",
       "      <td>8.000000</td>\n",
       "      <td>7.000000</td>\n",
       "      <td>4.500000</td>\n",
       "      <td>4.500000</td>\n",
       "      <td>2.291288</td>\n",
       "      <td>0.000000</td>\n",
       "      <td>-1.238097</td>\n",
       "    </tr>\n",
       "    <tr>\n",
       "      <th>2</th>\n",
       "      <td>age</td>\n",
       "      <td>14.00000</td>\n",
       "      <td>56.000000</td>\n",
       "      <td>42.000000</td>\n",
       "      <td>33.316340</td>\n",
       "      <td>33.000000</td>\n",
       "      <td>10.764758</td>\n",
       "      <td>0.156338</td>\n",
       "      <td>-0.926811</td>\n",
       "    </tr>\n",
       "    <tr>\n",
       "      <th>3</th>\n",
       "      <td>annual_salary</td>\n",
       "      <td>7005.93000</td>\n",
       "      <td>179987.280000</td>\n",
       "      <td>172981.350000</td>\n",
       "      <td>50505.123449</td>\n",
       "      <td>36999.705000</td>\n",
       "      <td>38299.230595</td>\n",
       "      <td>1.130223</td>\n",
       "      <td>0.608152</td>\n",
       "    </tr>\n",
       "    <tr>\n",
       "      <th>4</th>\n",
       "      <td>num_bank_accounts</td>\n",
       "      <td>0.00000</td>\n",
       "      <td>11.000000</td>\n",
       "      <td>11.000000</td>\n",
       "      <td>5.368820</td>\n",
       "      <td>5.000000</td>\n",
       "      <td>2.593301</td>\n",
       "      <td>-0.190015</td>\n",
       "      <td>-0.691922</td>\n",
       "    </tr>\n",
       "    <tr>\n",
       "      <th>5</th>\n",
       "      <td>cards_num</td>\n",
       "      <td>0.00000</td>\n",
       "      <td>11.000000</td>\n",
       "      <td>11.000000</td>\n",
       "      <td>5.533570</td>\n",
       "      <td>5.000000</td>\n",
       "      <td>2.067088</td>\n",
       "      <td>0.225808</td>\n",
       "      <td>-0.327834</td>\n",
       "    </tr>\n",
       "    <tr>\n",
       "      <th>6</th>\n",
       "      <td>loan_interest</td>\n",
       "      <td>1.00000</td>\n",
       "      <td>34.000000</td>\n",
       "      <td>33.000000</td>\n",
       "      <td>14.532080</td>\n",
       "      <td>13.000000</td>\n",
       "      <td>8.741287</td>\n",
       "      <td>0.496232</td>\n",
       "      <td>-0.681877</td>\n",
       "    </tr>\n",
       "    <tr>\n",
       "      <th>7</th>\n",
       "      <td>num_loans</td>\n",
       "      <td>0.00000</td>\n",
       "      <td>9.000000</td>\n",
       "      <td>9.000000</td>\n",
       "      <td>3.532880</td>\n",
       "      <td>3.000000</td>\n",
       "      <td>2.446344</td>\n",
       "      <td>0.445609</td>\n",
       "      <td>-0.614525</td>\n",
       "    </tr>\n",
       "    <tr>\n",
       "      <th>8</th>\n",
       "      <td>days_late_payment</td>\n",
       "      <td>0.00000</td>\n",
       "      <td>62.000000</td>\n",
       "      <td>62.000000</td>\n",
       "      <td>21.081410</td>\n",
       "      <td>18.000000</td>\n",
       "      <td>14.804486</td>\n",
       "      <td>0.969840</td>\n",
       "      <td>0.324643</td>\n",
       "    </tr>\n",
       "    <tr>\n",
       "      <th>9</th>\n",
       "      <td>qtd_late_payments</td>\n",
       "      <td>0.00000</td>\n",
       "      <td>25.000000</td>\n",
       "      <td>25.000000</td>\n",
       "      <td>13.313120</td>\n",
       "      <td>14.000000</td>\n",
       "      <td>6.237135</td>\n",
       "      <td>-0.214470</td>\n",
       "      <td>-0.703200</td>\n",
       "    </tr>\n",
       "    <tr>\n",
       "      <th>10</th>\n",
       "      <td>credit_checks</td>\n",
       "      <td>0.00000</td>\n",
       "      <td>17.000000</td>\n",
       "      <td>17.000000</td>\n",
       "      <td>5.798250</td>\n",
       "      <td>5.000000</td>\n",
       "      <td>3.867806</td>\n",
       "      <td>0.406825</td>\n",
       "      <td>-0.613939</td>\n",
       "    </tr>\n",
       "    <tr>\n",
       "      <th>11</th>\n",
       "      <td>total_debt</td>\n",
       "      <td>0.23000</td>\n",
       "      <td>4998.070000</td>\n",
       "      <td>4997.840000</td>\n",
       "      <td>1426.220376</td>\n",
       "      <td>1166.155000</td>\n",
       "      <td>1155.123250</td>\n",
       "      <td>1.207536</td>\n",
       "      <td>0.904984</td>\n",
       "    </tr>\n",
       "    <tr>\n",
       "      <th>12</th>\n",
       "      <td>credit_usage_fee</td>\n",
       "      <td>20.00000</td>\n",
       "      <td>50.000000</td>\n",
       "      <td>30.000000</td>\n",
       "      <td>32.285173</td>\n",
       "      <td>32.305784</td>\n",
       "      <td>5.116849</td>\n",
       "      <td>0.028617</td>\n",
       "      <td>-0.944023</td>\n",
       "    </tr>\n",
       "    <tr>\n",
       "      <th>13</th>\n",
       "      <td>credit_history_age</td>\n",
       "      <td>1.00000</td>\n",
       "      <td>404.000000</td>\n",
       "      <td>403.000000</td>\n",
       "      <td>221.220460</td>\n",
       "      <td>219.000000</td>\n",
       "      <td>99.680218</td>\n",
       "      <td>-0.048832</td>\n",
       "      <td>-0.902174</td>\n",
       "    </tr>\n",
       "    <tr>\n",
       "      <th>14</th>\n",
       "      <td>monthly_investment</td>\n",
       "      <td>0.00000</td>\n",
       "      <td>434.191089</td>\n",
       "      <td>434.191089</td>\n",
       "      <td>55.101315</td>\n",
       "      <td>45.156550</td>\n",
       "      <td>39.006737</td>\n",
       "      <td>1.761036</td>\n",
       "      <td>5.025267</td>\n",
       "    </tr>\n",
       "    <tr>\n",
       "      <th>15</th>\n",
       "      <td>final_balance_month</td>\n",
       "      <td>0.00776</td>\n",
       "      <td>1183.930696</td>\n",
       "      <td>1183.922936</td>\n",
       "      <td>392.697586</td>\n",
       "      <td>333.865366</td>\n",
       "      <td>201.651710</td>\n",
       "      <td>1.355614</td>\n",
       "      <td>1.888298</td>\n",
       "    </tr>\n",
       "    <tr>\n",
       "      <th>16</th>\n",
       "      <td>car_loan</td>\n",
       "      <td>0.00000</td>\n",
       "      <td>1.000000</td>\n",
       "      <td>1.000000</td>\n",
       "      <td>0.305600</td>\n",
       "      <td>0.000000</td>\n",
       "      <td>0.460661</td>\n",
       "      <td>0.844017</td>\n",
       "      <td>-1.287661</td>\n",
       "    </tr>\n",
       "    <tr>\n",
       "      <th>17</th>\n",
       "      <td>home_loan</td>\n",
       "      <td>0.00000</td>\n",
       "      <td>1.000000</td>\n",
       "      <td>1.000000</td>\n",
       "      <td>0.511760</td>\n",
       "      <td>1.000000</td>\n",
       "      <td>0.499862</td>\n",
       "      <td>-0.047054</td>\n",
       "      <td>-1.997826</td>\n",
       "    </tr>\n",
       "    <tr>\n",
       "      <th>18</th>\n",
       "      <td>personal_loan</td>\n",
       "      <td>0.00000</td>\n",
       "      <td>1.000000</td>\n",
       "      <td>1.000000</td>\n",
       "      <td>0.311040</td>\n",
       "      <td>0.000000</td>\n",
       "      <td>0.462919</td>\n",
       "      <td>0.816397</td>\n",
       "      <td>-1.333523</td>\n",
       "    </tr>\n",
       "    <tr>\n",
       "      <th>19</th>\n",
       "      <td>credit_loan</td>\n",
       "      <td>0.00000</td>\n",
       "      <td>1.000000</td>\n",
       "      <td>1.000000</td>\n",
       "      <td>0.317280</td>\n",
       "      <td>0.000000</td>\n",
       "      <td>0.465417</td>\n",
       "      <td>0.785199</td>\n",
       "      <td>-1.383490</td>\n",
       "    </tr>\n",
       "    <tr>\n",
       "      <th>20</th>\n",
       "      <td>student_loan</td>\n",
       "      <td>0.00000</td>\n",
       "      <td>1.000000</td>\n",
       "      <td>1.000000</td>\n",
       "      <td>0.310400</td>\n",
       "      <td>0.000000</td>\n",
       "      <td>0.462657</td>\n",
       "      <td>0.819625</td>\n",
       "      <td>-1.328241</td>\n",
       "    </tr>\n",
       "  </tbody>\n",
       "</table>\n",
       "</div>"
      ],
      "text/plain": [
       "             attributes         min            max          range  \\\n",
       "0           customer_id  1006.00000   50999.000000   49993.000000   \n",
       "1             day_month     1.00000       8.000000       7.000000   \n",
       "2                   age    14.00000      56.000000      42.000000   \n",
       "3         annual_salary  7005.93000  179987.280000  172981.350000   \n",
       "4     num_bank_accounts     0.00000      11.000000      11.000000   \n",
       "5             cards_num     0.00000      11.000000      11.000000   \n",
       "6         loan_interest     1.00000      34.000000      33.000000   \n",
       "7             num_loans     0.00000       9.000000       9.000000   \n",
       "8     days_late_payment     0.00000      62.000000      62.000000   \n",
       "9     qtd_late_payments     0.00000      25.000000      25.000000   \n",
       "10        credit_checks     0.00000      17.000000      17.000000   \n",
       "11           total_debt     0.23000    4998.070000    4997.840000   \n",
       "12     credit_usage_fee    20.00000      50.000000      30.000000   \n",
       "13   credit_history_age     1.00000     404.000000     403.000000   \n",
       "14   monthly_investment     0.00000     434.191089     434.191089   \n",
       "15  final_balance_month     0.00776    1183.930696    1183.922936   \n",
       "16             car_loan     0.00000       1.000000       1.000000   \n",
       "17            home_loan     0.00000       1.000000       1.000000   \n",
       "18        personal_loan     0.00000       1.000000       1.000000   \n",
       "19          credit_loan     0.00000       1.000000       1.000000   \n",
       "20         student_loan     0.00000       1.000000       1.000000   \n",
       "\n",
       "            mean       mediana           std      skew  kurtosis  \n",
       "0   25982.666640  25777.000000  14340.471348  0.011057 -1.187935  \n",
       "1       4.500000      4.500000      2.291288  0.000000 -1.238097  \n",
       "2      33.316340     33.000000     10.764758  0.156338 -0.926811  \n",
       "3   50505.123449  36999.705000  38299.230595  1.130223  0.608152  \n",
       "4       5.368820      5.000000      2.593301 -0.190015 -0.691922  \n",
       "5       5.533570      5.000000      2.067088  0.225808 -0.327834  \n",
       "6      14.532080     13.000000      8.741287  0.496232 -0.681877  \n",
       "7       3.532880      3.000000      2.446344  0.445609 -0.614525  \n",
       "8      21.081410     18.000000     14.804486  0.969840  0.324643  \n",
       "9      13.313120     14.000000      6.237135 -0.214470 -0.703200  \n",
       "10      5.798250      5.000000      3.867806  0.406825 -0.613939  \n",
       "11   1426.220376   1166.155000   1155.123250  1.207536  0.904984  \n",
       "12     32.285173     32.305784      5.116849  0.028617 -0.944023  \n",
       "13    221.220460    219.000000     99.680218 -0.048832 -0.902174  \n",
       "14     55.101315     45.156550     39.006737  1.761036  5.025267  \n",
       "15    392.697586    333.865366    201.651710  1.355614  1.888298  \n",
       "16      0.305600      0.000000      0.460661  0.844017 -1.287661  \n",
       "17      0.511760      1.000000      0.499862 -0.047054 -1.997826  \n",
       "18      0.311040      0.000000      0.462919  0.816397 -1.333523  \n",
       "19      0.317280      0.000000      0.465417  0.785199 -1.383490  \n",
       "20      0.310400      0.000000      0.462657  0.819625 -1.328241  "
      ]
     },
     "execution_count": 538,
     "metadata": {},
     "output_type": "execute_result"
    }
   ],
   "source": [
    "# central tendency - mean, median\n",
    "ct1 = pd.DataFrame( num_attributes.apply( np.mean ) ).T\n",
    "ct2 = pd.DataFrame( num_attributes.apply( np.median ) ).T\n",
    "             \n",
    "# dispersion - desvio padrão, minimo, maximo, range, skew, kurtosis\n",
    "d1 = pd.DataFrame( num_attributes.apply( np.std ) ).T\n",
    "d2 = pd.DataFrame( num_attributes.apply( np.min ) ).T\n",
    "d3 = pd.DataFrame( num_attributes.apply( np.max ) ).T\n",
    "d4 = pd.DataFrame( num_attributes.apply( lambda x: x.max() - x.min() ) ).T\n",
    "d5 = pd.DataFrame( num_attributes.apply( lambda x: x.skew() ) ).T\n",
    "d6 = pd.DataFrame( num_attributes.apply( lambda x: x.kurtosis() ) ).T\n",
    "\n",
    "# concatenate\n",
    "m = pd.concat( [d2, d3, d4, ct1, ct2, d1, d5, d6] ).T.reset_index()\n",
    "m.columns = ['attributes', 'min', 'max', 'range', 'mean', 'mediana', 'std', 'skew', 'kurtosis']\n",
    "m"
   ]
  },
  {
   "cell_type": "markdown",
   "metadata": {},
   "source": [
    "# 4.0 - FEATURE ENGINEERING"
   ]
  },
  {
   "cell_type": "code",
   "execution_count": 539,
   "metadata": {},
   "outputs": [],
   "source": [
    "df4 = df3.copy()"
   ]
  },
  {
   "cell_type": "markdown",
   "metadata": {},
   "source": [
    "## 4.1 - RAZÕES E PROPORÇÕES"
   ]
  },
  {
   "cell_type": "markdown",
   "metadata": {},
   "source": [
    "**Razões e Proporções**\n",
    "- **Identificação de Clientes de Alto Risco**: Clientes com uma alta proporção de empréstimos podem ser sinalizados como de alto risco, ajudando a prevenir inadimplência.\n",
    "\n",
    "- **Segmentação de Clientes:** A instituição pode usar essa métrica para segmentar clientes em diferentes categorias de risco e personalizar ofertas de crédito.\n",
    "\n",
    "- **Melhoria da Precisão do Modelo:** Adicionar essa feature ao modelo de classificação pode melhorar sua capacidade de prever quem deve receber um aumento de crédito, considerando a dependência do cliente em relação aos empréstimo."
   ]
  },
  {
   "cell_type": "markdown",
   "metadata": {},
   "source": [
    "**Proporção de credito**\n",
    "\n",
    "Ajuda a entender a relação entre o número de empréstimos e o número de contas bancárias, indicando a dependência do cliente em relação a empréstimos."
   ]
  },
  {
   "cell_type": "code",
   "execution_count": 540,
   "metadata": {},
   "outputs": [],
   "source": [
    "df4['proportion_loans'] = df4.apply(lambda x: x['num_loans'] / x['num_bank_accounts'] if x['num_bank_accounts'] != 0 else 0, axis=1)"
   ]
  },
  {
   "cell_type": "code",
   "execution_count": 541,
   "metadata": {},
   "outputs": [
    {
     "data": {
      "text/plain": [
       "np.int64(0)"
      ]
     },
     "execution_count": 541,
     "metadata": {},
     "output_type": "execute_result"
    }
   ],
   "source": [
    "df4['proportion_loans'].isna().sum()"
   ]
  },
  {
   "cell_type": "markdown",
   "metadata": {},
   "source": [
    "**Proporção de dívidas sobre salário**\n",
    "\n",
    "Indica a carga da dívida em relação à capacidade financeira do cliente, importante para avaliar o risco de crédito."
   ]
  },
  {
   "cell_type": "code",
   "execution_count": 542,
   "metadata": {},
   "outputs": [
    {
     "data": {
      "text/plain": [
       "np.int64(0)"
      ]
     },
     "execution_count": 542,
     "metadata": {},
     "output_type": "execute_result"
    }
   ],
   "source": [
    "df4['salary_debt_ratio'] = df4['total_debt'] / df4['annual_salary']\n",
    "df4['salary_debt_ratio'].isna().sum()"
   ]
  },
  {
   "cell_type": "markdown",
   "metadata": {},
   "source": [
    "**Proporção de inadimplência**\n",
    "\n",
    "Avalia a frequência de atrasos em pagamentos em relação ao número total de empréstimos, importante para identificar clientes de alto risco."
   ]
  },
  {
   "cell_type": "code",
   "execution_count": 543,
   "metadata": {},
   "outputs": [
    {
     "data": {
      "text/plain": [
       "np.int64(0)"
      ]
     },
     "execution_count": 543,
     "metadata": {},
     "output_type": "execute_result"
    }
   ],
   "source": [
    "df4['delinquency_ratio'] = df4.apply(lambda x: x['qtd_late_payments'] / x['num_loans'] if x['num_loans'] != 0 else 0, axis=1)\n",
    "df4['delinquency_ratio'].isna().sum()"
   ]
  },
  {
   "cell_type": "markdown",
   "metadata": {},
   "source": [
    "**Proporção de investimentos sobre salário**\n",
    "\n",
    "Indica a propensão do cliente a investir uma parte de sua renda mensal, mostrando um comportamento financeiro responsável."
   ]
  },
  {
   "cell_type": "code",
   "execution_count": 544,
   "metadata": {},
   "outputs": [
    {
     "data": {
      "text/plain": [
       "np.int64(0)"
      ]
     },
     "execution_count": 544,
     "metadata": {},
     "output_type": "execute_result"
    }
   ],
   "source": [
    "df4['salary_investment_proportion'] = df4['monthly_investment'] / (df4['annual_salary'] / 12)\n",
    "df4['salary_investment_proportion'].isna().sum()"
   ]
  },
  {
   "cell_type": "markdown",
   "metadata": {},
   "source": [
    "**Impacto do Crédito** \n",
    "\n",
    "Combina dívida total com saldo final do mês e salário anual para fornecer uma medida composta da situação financeira do cliente."
   ]
  },
  {
   "cell_type": "code",
   "execution_count": 545,
   "metadata": {},
   "outputs": [
    {
     "data": {
      "text/plain": [
       "np.int64(0)"
      ]
     },
     "execution_count": 545,
     "metadata": {},
     "output_type": "execute_result"
    }
   ],
   "source": [
    "df4['credit_impact'] = df4['total_debt'] / (df4['annual_salary'] + df4['final_balance_month'])\n",
    "df4['credit_impact'].isna().sum()"
   ]
  },
  {
   "cell_type": "markdown",
   "metadata": {},
   "source": [
    "## 4.2 - AGREGAÇÕES"
   ]
  },
  {
   "cell_type": "markdown",
   "metadata": {},
   "source": [
    "**Total de empréstimos pendentes**\n",
    "\n",
    "Soma de todos os tipos de empréstimos, fornecendo uma visão geral da carga de empréstimos do cliente."
   ]
  },
  {
   "cell_type": "code",
   "execution_count": 546,
   "metadata": {},
   "outputs": [
    {
     "data": {
      "text/plain": [
       "np.int64(0)"
      ]
     },
     "execution_count": 546,
     "metadata": {},
     "output_type": "execute_result"
    }
   ],
   "source": [
    "df4['total_loans'] = df4['car_loan'] + df4['home_loan'] + df4['personal_loan'] + df4['credit_loan'] + df4['student_loan']\n",
    "df4['total_loans'].isna().sum()"
   ]
  },
  {
   "cell_type": "markdown",
   "metadata": {},
   "source": [
    "**Média de juros de empréstimos** \n",
    "\n",
    "Média dos juros pagos pelos empréstimos, importante para avaliar o custo médio do crédito do cliente "
   ]
  },
  {
   "cell_type": "code",
   "execution_count": 547,
   "metadata": {},
   "outputs": [
    {
     "name": "stdout",
     "output_type": "stream",
     "text": [
      "0\n"
     ]
    }
   ],
   "source": [
    "df4['average_interest_loans'] = df4['loan_interest'] / df4['total_loans']\n",
    "max_value = df4.loc[df4['average_interest_loans'] != np.inf, 'average_interest_loans'].max()\n",
    "df4['average_interest_loans'] = df4['average_interest_loans'].replace(np.inf, max_value)\n",
    "print(df4['average_interest_loans'].isna().sum())\n"
   ]
  },
  {
   "cell_type": "markdown",
   "metadata": {},
   "source": [
    "## 4.3 - CLASSES E CATEGORIAS"
   ]
  },
  {
   "cell_type": "markdown",
   "metadata": {},
   "source": [
    "**Faixa Etária** \n",
    "\n",
    "Agrupa clientes em categorias de idade, permitindo analisar comportamentos financeiros específicos de cada faixa etária."
   ]
  },
  {
   "cell_type": "code",
   "execution_count": 548,
   "metadata": {},
   "outputs": [
    {
     "data": {
      "text/plain": [
       "np.int64(0)"
      ]
     },
     "execution_count": 548,
     "metadata": {},
     "output_type": "execute_result"
    }
   ],
   "source": [
    "df4['age_group']= pd.cut(df4['age'], bins=[0, 25, 35, 45, 55, 65, 75, 100], labels=['0-25', '26-35', '36-45', '46-55', '56-65', '66-75', '76-100'])\n",
    "df4['age_group'].isna().sum()"
   ]
  },
  {
   "cell_type": "markdown",
   "metadata": {},
   "source": [
    "**Faixa Salarial**\n",
    "\n",
    "Agrupa clientes em categorias de salário, ajudando a entender comportamentos financeiros relativos a diferentes níveis de renda."
   ]
  },
  {
   "cell_type": "code",
   "execution_count": 549,
   "metadata": {},
   "outputs": [
    {
     "data": {
      "text/plain": [
       "np.int64(0)"
      ]
     },
     "execution_count": 549,
     "metadata": {},
     "output_type": "execute_result"
    }
   ],
   "source": [
    "df4['salary_group'] = pd.cut(df4['annual_salary'], bins=[0, 20000, 40000, 60000, 80000, 100000, 200000, 500000], labels=['0-20k', '20k-40k', '40k-60k', '60k-80k', '80k-100k', '100k-200k', '200k+'])\n",
    "df4['salary_group'].isna().sum()"
   ]
  },
  {
   "cell_type": "markdown",
   "metadata": {},
   "source": [
    "**Autorização de Crédito**\n",
    "\n",
    "- **Automatiza Decisões**: Permite automatizar e agilizar a decisão sobre a concessão de crédito.\n",
    "\n",
    "- **Padroniza o Processo**: Define critérios claros para avaliar se um cliente está apto a receber crédito, reduzindo a subjetividade.\n",
    "\n",
    "- **Reduz Riscos**: Ajuda a controlar o risco de inadimplência ao conceder crédito apenas a clientes que atendem a critérios específicos.\n",
    "\n",
    "- **Facilita Análises**: Permite analisar o desempenho das decisões de crédito ao longo do tempo para ajustes e melhorias.\n",
    "\n",
    "- **Garante Compliance**: Ajuda a cumprir regulamentações e normas aplicáveis, garantindo transparência e consistência nas decisões."
   ]
  },
  {
   "cell_type": "code",
   "execution_count": 550,
   "metadata": {},
   "outputs": [
    {
     "name": "stdout",
     "output_type": "stream",
     "text": [
      "credit_score\n",
      "Standard    0.53174\n",
      "Poor        0.28998\n",
      "Good        0.17828\n",
      "Name: proportion, dtype: float64\n",
      "\n",
      "Proporção de concessão: \n",
      "authorized\n",
      "authorized        0.53193\n",
      "not authorized    0.46807\n",
      "Name: proportion, dtype: float64\n",
      "\n",
      "Quantidade de dados NAN: 0\n"
     ]
    }
   ],
   "source": [
    "# Exemplo de criação da feature \"authorized\"\n",
    "def authorized(row):\n",
    "    if row['credit_score'] == 'Good':\n",
    "        if(row['qtd_late_payments'] <= 1 and\n",
    "           row['credit_checks'] < 1 and\n",
    "           row['days_late_payment'] < 7 and\n",
    "           row['credit_history_age'] > 365 and\n",
    "           row['total_debt'] < 0.5 * row['annual_salary']):\n",
    "            return 'authorized'\n",
    "        \n",
    "    elif row['credit_score'] == 'Standard':\n",
    "        if(row['qtd_late_payments'] <= 3 and\n",
    "           row['credit_checks'] < 2 and\n",
    "           row['days_late_payment'] < 15 and\n",
    "           row['credit_history_age'] > 180 and\n",
    "           row['total_debt'] < 0.4 * row['annual_salary']):\n",
    "            return 'authorized'\n",
    "            \n",
    "        return 'authorized'\n",
    "    \n",
    "    # Se não atender aos critérios acima, não está autorizado\n",
    "    return 'not authorized'\n",
    "\n",
    "# Aplicar a função para criar a coluna 'authorized'\n",
    "df4['authorized'] = df4.apply(authorized, axis=1)\n",
    "\n",
    "# Exibir o DataFrame com a nova coluna\n",
    "print(df4['credit_score'].value_counts(normalize=True))\n",
    "print('\\nProporção de concessão: \\n{}'.format(df4['authorized'].value_counts(normalize = True)))\n",
    "print('\\nQuantidade de dados NAN: {}'.format(df4['credit_score'].isna().sum()))\n"
   ]
  },
  {
   "cell_type": "markdown",
   "metadata": {},
   "source": [
    "## 4.4 - DATATYPES"
   ]
  },
  {
   "cell_type": "code",
   "execution_count": 551,
   "metadata": {},
   "outputs": [
    {
     "data": {
      "text/plain": [
       "customer_id                        int64\n",
       "day_month                          int64\n",
       "age                                int64\n",
       "occupation                        object\n",
       "annual_salary                    float64\n",
       "num_bank_accounts                float64\n",
       "cards_num                        float64\n",
       "loan_interest                    float64\n",
       "num_loans                        float64\n",
       "days_late_payment                float64\n",
       "qtd_late_payments                float64\n",
       "credit_checks                    float64\n",
       "credit_mix                        object\n",
       "total_debt                       float64\n",
       "credit_usage_fee                 float64\n",
       "credit_history_age               float64\n",
       "monthly_investment               float64\n",
       "payment_behavior                  object\n",
       "final_balance_month              float64\n",
       "credit_score                      object\n",
       "car_loan                           int64\n",
       "home_loan                          int64\n",
       "personal_loan                      int64\n",
       "credit_loan                        int64\n",
       "student_loan                       int64\n",
       "proportion_loans                 float64\n",
       "salary_debt_ratio                float64\n",
       "delinquency_ratio                float64\n",
       "salary_investment_proportion     float64\n",
       "credit_impact                    float64\n",
       "total_loans                        int64\n",
       "average_interest_loans           float64\n",
       "age_group                       category\n",
       "salary_group                    category\n",
       "authorized                        object\n",
       "dtype: object"
      ]
     },
     "execution_count": 551,
     "metadata": {},
     "output_type": "execute_result"
    }
   ],
   "source": [
    "df4.dtypes"
   ]
  },
  {
   "cell_type": "markdown",
   "metadata": {},
   "source": [
    "**Função para converter variaveis do tipo float para int, e atualizar o numero de casas decimais de uma variavel float**"
   ]
  },
  {
   "cell_type": "code",
   "execution_count": 552,
   "metadata": {},
   "outputs": [],
   "source": [
    "def convert_int(col):\n",
    "    return col.astype(int)\n",
    "\n",
    "def decimal_space(col):\n",
    "    return np.around(col, 2)"
   ]
  },
  {
   "cell_type": "code",
   "execution_count": 553,
   "metadata": {},
   "outputs": [],
   "source": [
    "df4['num_bank_accounts']    = convert_int(df4['num_bank_accounts'])\n",
    "df4['cards_num']            = convert_int(df4['cards_num'])\n",
    "df4['loan_interest']        = convert_int(df4['loan_interest'])\n",
    "df4['days_late_payment']    = convert_int(df4['days_late_payment'])\n",
    "df4['qtd_late_payments']    = convert_int(df4['qtd_late_payments'])\n",
    "df4['credit_checks']        = convert_int(df4['credit_checks'])\n",
    "df4['credit_history_age']   = convert_int(df4['credit_history_age'])\n"
   ]
  },
  {
   "cell_type": "code",
   "execution_count": 554,
   "metadata": {},
   "outputs": [],
   "source": [
    "df4['annual_salary']                = decimal_space(df4['annual_salary'])\n",
    "df4['credit_usage_fee']             = decimal_space(df4['credit_usage_fee'])\n",
    "df4['monthly_investment']           = decimal_space(df4['monthly_investment'])\n",
    "df4['final_balance_month']          = decimal_space(df4['final_balance_month'])\n",
    "df4['proportion_loans']             = decimal_space(df4['proportion_loans'])\n",
    "df4['salary_debt_ratio']            = decimal_space(df4['salary_debt_ratio'])\n",
    "df4['delinquency_ratio']            = decimal_space(df4['delinquency_ratio'])\n",
    "df4['salary_investment_proportion'] = decimal_space(df4['salary_investment_proportion'])\n",
    "df4['credit_impact']                = decimal_space(df4['credit_impact'])"
   ]
  },
  {
   "cell_type": "markdown",
   "metadata": {},
   "source": [
    "## 4.5 - DROP EXTRA COLUMNS"
   ]
  },
  {
   "cell_type": "code",
   "execution_count": 555,
   "metadata": {},
   "outputs": [],
   "source": [
    "df4 = df4.drop(columns = ['day_month', 'payment_behavior', 'car_loan', 'home_loan', 'personal_loan', 'credit_loan',\n",
    "       'student_loan', 'num_loans'])"
   ]
  },
  {
   "cell_type": "code",
   "execution_count": 556,
   "metadata": {},
   "outputs": [
    {
     "data": {
      "text/html": [
       "<div>\n",
       "<style scoped>\n",
       "    .dataframe tbody tr th:only-of-type {\n",
       "        vertical-align: middle;\n",
       "    }\n",
       "\n",
       "    .dataframe tbody tr th {\n",
       "        vertical-align: top;\n",
       "    }\n",
       "\n",
       "    .dataframe thead th {\n",
       "        text-align: right;\n",
       "    }\n",
       "</style>\n",
       "<table border=\"1\" class=\"dataframe\">\n",
       "  <thead>\n",
       "    <tr style=\"text-align: right;\">\n",
       "      <th></th>\n",
       "      <th>33065</th>\n",
       "      <th>85507</th>\n",
       "      <th>15287</th>\n",
       "      <th>64797</th>\n",
       "      <th>40749</th>\n",
       "      <th>20686</th>\n",
       "      <th>54129</th>\n",
       "      <th>92409</th>\n",
       "      <th>5617</th>\n",
       "      <th>54345</th>\n",
       "    </tr>\n",
       "  </thead>\n",
       "  <tbody>\n",
       "    <tr>\n",
       "      <th>customer_id</th>\n",
       "      <td>33672</td>\n",
       "      <td>43823</td>\n",
       "      <td>23655</td>\n",
       "      <td>31661</td>\n",
       "      <td>13938</td>\n",
       "      <td>45457</td>\n",
       "      <td>28888</td>\n",
       "      <td>30601</td>\n",
       "      <td>30022</td>\n",
       "      <td>1612</td>\n",
       "    </tr>\n",
       "    <tr>\n",
       "      <th>age</th>\n",
       "      <td>28</td>\n",
       "      <td>22</td>\n",
       "      <td>32</td>\n",
       "      <td>45</td>\n",
       "      <td>37</td>\n",
       "      <td>42</td>\n",
       "      <td>40</td>\n",
       "      <td>25</td>\n",
       "      <td>24</td>\n",
       "      <td>35</td>\n",
       "    </tr>\n",
       "    <tr>\n",
       "      <th>occupation</th>\n",
       "      <td>journalist</td>\n",
       "      <td>manager</td>\n",
       "      <td>accountant</td>\n",
       "      <td>writer</td>\n",
       "      <td>maintenance mechanic</td>\n",
       "      <td>engineer</td>\n",
       "      <td>architect</td>\n",
       "      <td>scientist</td>\n",
       "      <td>businessman</td>\n",
       "      <td>writer</td>\n",
       "    </tr>\n",
       "    <tr>\n",
       "      <th>annual_salary</th>\n",
       "      <td>60177.04</td>\n",
       "      <td>26760.95</td>\n",
       "      <td>38103.74</td>\n",
       "      <td>77672.34</td>\n",
       "      <td>70709.04</td>\n",
       "      <td>17158.43</td>\n",
       "      <td>116346.93</td>\n",
       "      <td>10882.8</td>\n",
       "      <td>11866.34</td>\n",
       "      <td>63978.72</td>\n",
       "    </tr>\n",
       "    <tr>\n",
       "      <th>num_bank_accounts</th>\n",
       "      <td>7</td>\n",
       "      <td>4</td>\n",
       "      <td>8</td>\n",
       "      <td>3</td>\n",
       "      <td>7</td>\n",
       "      <td>8</td>\n",
       "      <td>0</td>\n",
       "      <td>4</td>\n",
       "      <td>7</td>\n",
       "      <td>7</td>\n",
       "    </tr>\n",
       "    <tr>\n",
       "      <th>cards_num</th>\n",
       "      <td>6</td>\n",
       "      <td>4</td>\n",
       "      <td>7</td>\n",
       "      <td>1</td>\n",
       "      <td>6</td>\n",
       "      <td>7</td>\n",
       "      <td>3</td>\n",
       "      <td>4</td>\n",
       "      <td>7</td>\n",
       "      <td>7</td>\n",
       "    </tr>\n",
       "    <tr>\n",
       "      <th>loan_interest</th>\n",
       "      <td>11</td>\n",
       "      <td>9</td>\n",
       "      <td>16</td>\n",
       "      <td>2</td>\n",
       "      <td>20</td>\n",
       "      <td>28</td>\n",
       "      <td>9</td>\n",
       "      <td>2</td>\n",
       "      <td>20</td>\n",
       "      <td>17</td>\n",
       "    </tr>\n",
       "    <tr>\n",
       "      <th>days_late_payment</th>\n",
       "      <td>10</td>\n",
       "      <td>5</td>\n",
       "      <td>3</td>\n",
       "      <td>10</td>\n",
       "      <td>9</td>\n",
       "      <td>56</td>\n",
       "      <td>2</td>\n",
       "      <td>15</td>\n",
       "      <td>17</td>\n",
       "      <td>17</td>\n",
       "    </tr>\n",
       "    <tr>\n",
       "      <th>qtd_late_payments</th>\n",
       "      <td>19</td>\n",
       "      <td>10</td>\n",
       "      <td>9</td>\n",
       "      <td>4</td>\n",
       "      <td>15</td>\n",
       "      <td>23</td>\n",
       "      <td>8</td>\n",
       "      <td>16</td>\n",
       "      <td>20</td>\n",
       "      <td>7</td>\n",
       "    </tr>\n",
       "    <tr>\n",
       "      <th>credit_checks</th>\n",
       "      <td>3</td>\n",
       "      <td>3</td>\n",
       "      <td>5</td>\n",
       "      <td>3</td>\n",
       "      <td>5</td>\n",
       "      <td>6</td>\n",
       "      <td>1</td>\n",
       "      <td>4</td>\n",
       "      <td>6</td>\n",
       "      <td>7</td>\n",
       "    </tr>\n",
       "    <tr>\n",
       "      <th>credit_mix</th>\n",
       "      <td>Standart</td>\n",
       "      <td>Standart</td>\n",
       "      <td>Standart</td>\n",
       "      <td>Good</td>\n",
       "      <td>Standart</td>\n",
       "      <td>Poor</td>\n",
       "      <td>Good</td>\n",
       "      <td>Good</td>\n",
       "      <td>Standart</td>\n",
       "      <td>Standart</td>\n",
       "    </tr>\n",
       "    <tr>\n",
       "      <th>total_debt</th>\n",
       "      <td>765.97</td>\n",
       "      <td>244.29</td>\n",
       "      <td>129.64</td>\n",
       "      <td>813.2</td>\n",
       "      <td>805.64</td>\n",
       "      <td>4438.41</td>\n",
       "      <td>115.22</td>\n",
       "      <td>1452.88</td>\n",
       "      <td>276.34</td>\n",
       "      <td>947.31</td>\n",
       "    </tr>\n",
       "    <tr>\n",
       "      <th>credit_usage_fee</th>\n",
       "      <td>29.78</td>\n",
       "      <td>29.29</td>\n",
       "      <td>29.18</td>\n",
       "      <td>28.09</td>\n",
       "      <td>34.65</td>\n",
       "      <td>33.25</td>\n",
       "      <td>32.43</td>\n",
       "      <td>27.01</td>\n",
       "      <td>35.82</td>\n",
       "      <td>29.08</td>\n",
       "    </tr>\n",
       "    <tr>\n",
       "      <th>credit_history_age</th>\n",
       "      <td>248</td>\n",
       "      <td>229</td>\n",
       "      <td>392</td>\n",
       "      <td>261</td>\n",
       "      <td>202</td>\n",
       "      <td>101</td>\n",
       "      <td>360</td>\n",
       "      <td>315</td>\n",
       "      <td>290</td>\n",
       "      <td>374</td>\n",
       "    </tr>\n",
       "    <tr>\n",
       "      <th>monthly_investment</th>\n",
       "      <td>54.83</td>\n",
       "      <td>39.83</td>\n",
       "      <td>33.98</td>\n",
       "      <td>52.4</td>\n",
       "      <td>76.58</td>\n",
       "      <td>28.57</td>\n",
       "      <td>111.36</td>\n",
       "      <td>14.24</td>\n",
       "      <td>15.25</td>\n",
       "      <td>78.75</td>\n",
       "    </tr>\n",
       "    <tr>\n",
       "      <th>final_balance_month</th>\n",
       "      <td>537.26</td>\n",
       "      <td>357.01</td>\n",
       "      <td>533.55</td>\n",
       "      <td>347.15</td>\n",
       "      <td>320.67</td>\n",
       "      <td>183.57</td>\n",
       "      <td>334.41</td>\n",
       "      <td>281.89</td>\n",
       "      <td>329.6</td>\n",
       "      <td>484.04</td>\n",
       "    </tr>\n",
       "    <tr>\n",
       "      <th>credit_score</th>\n",
       "      <td>Standard</td>\n",
       "      <td>Standard</td>\n",
       "      <td>Poor</td>\n",
       "      <td>Good</td>\n",
       "      <td>Standard</td>\n",
       "      <td>Standard</td>\n",
       "      <td>Good</td>\n",
       "      <td>Good</td>\n",
       "      <td>Standard</td>\n",
       "      <td>Standard</td>\n",
       "    </tr>\n",
       "    <tr>\n",
       "      <th>proportion_loans</th>\n",
       "      <td>0.43</td>\n",
       "      <td>0.5</td>\n",
       "      <td>0.0</td>\n",
       "      <td>1.0</td>\n",
       "      <td>0.86</td>\n",
       "      <td>0.88</td>\n",
       "      <td>0.0</td>\n",
       "      <td>1.0</td>\n",
       "      <td>0.14</td>\n",
       "      <td>0.57</td>\n",
       "    </tr>\n",
       "    <tr>\n",
       "      <th>salary_debt_ratio</th>\n",
       "      <td>0.01</td>\n",
       "      <td>0.01</td>\n",
       "      <td>0.0</td>\n",
       "      <td>0.01</td>\n",
       "      <td>0.01</td>\n",
       "      <td>0.26</td>\n",
       "      <td>0.0</td>\n",
       "      <td>0.13</td>\n",
       "      <td>0.02</td>\n",
       "      <td>0.01</td>\n",
       "    </tr>\n",
       "    <tr>\n",
       "      <th>delinquency_ratio</th>\n",
       "      <td>6.33</td>\n",
       "      <td>5.0</td>\n",
       "      <td>0.0</td>\n",
       "      <td>1.33</td>\n",
       "      <td>2.5</td>\n",
       "      <td>3.29</td>\n",
       "      <td>2.67</td>\n",
       "      <td>4.0</td>\n",
       "      <td>20.0</td>\n",
       "      <td>1.75</td>\n",
       "    </tr>\n",
       "    <tr>\n",
       "      <th>salary_investment_proportion</th>\n",
       "      <td>0.01</td>\n",
       "      <td>0.02</td>\n",
       "      <td>0.01</td>\n",
       "      <td>0.01</td>\n",
       "      <td>0.01</td>\n",
       "      <td>0.02</td>\n",
       "      <td>0.01</td>\n",
       "      <td>0.02</td>\n",
       "      <td>0.02</td>\n",
       "      <td>0.01</td>\n",
       "    </tr>\n",
       "    <tr>\n",
       "      <th>credit_impact</th>\n",
       "      <td>0.01</td>\n",
       "      <td>0.01</td>\n",
       "      <td>0.0</td>\n",
       "      <td>0.01</td>\n",
       "      <td>0.01</td>\n",
       "      <td>0.26</td>\n",
       "      <td>0.0</td>\n",
       "      <td>0.13</td>\n",
       "      <td>0.02</td>\n",
       "      <td>0.01</td>\n",
       "    </tr>\n",
       "    <tr>\n",
       "      <th>total_loans</th>\n",
       "      <td>1</td>\n",
       "      <td>1</td>\n",
       "      <td>0</td>\n",
       "      <td>1</td>\n",
       "      <td>3</td>\n",
       "      <td>4</td>\n",
       "      <td>2</td>\n",
       "      <td>2</td>\n",
       "      <td>1</td>\n",
       "      <td>2</td>\n",
       "    </tr>\n",
       "    <tr>\n",
       "      <th>average_interest_loans</th>\n",
       "      <td>11.0</td>\n",
       "      <td>9.0</td>\n",
       "      <td>34.0</td>\n",
       "      <td>2.0</td>\n",
       "      <td>6.666667</td>\n",
       "      <td>7.0</td>\n",
       "      <td>4.5</td>\n",
       "      <td>1.0</td>\n",
       "      <td>20.0</td>\n",
       "      <td>8.5</td>\n",
       "    </tr>\n",
       "    <tr>\n",
       "      <th>age_group</th>\n",
       "      <td>26-35</td>\n",
       "      <td>0-25</td>\n",
       "      <td>26-35</td>\n",
       "      <td>36-45</td>\n",
       "      <td>36-45</td>\n",
       "      <td>36-45</td>\n",
       "      <td>36-45</td>\n",
       "      <td>0-25</td>\n",
       "      <td>0-25</td>\n",
       "      <td>26-35</td>\n",
       "    </tr>\n",
       "    <tr>\n",
       "      <th>salary_group</th>\n",
       "      <td>60k-80k</td>\n",
       "      <td>20k-40k</td>\n",
       "      <td>20k-40k</td>\n",
       "      <td>60k-80k</td>\n",
       "      <td>60k-80k</td>\n",
       "      <td>0-20k</td>\n",
       "      <td>100k-200k</td>\n",
       "      <td>0-20k</td>\n",
       "      <td>0-20k</td>\n",
       "      <td>60k-80k</td>\n",
       "    </tr>\n",
       "    <tr>\n",
       "      <th>authorized</th>\n",
       "      <td>authorized</td>\n",
       "      <td>authorized</td>\n",
       "      <td>not authorized</td>\n",
       "      <td>not authorized</td>\n",
       "      <td>authorized</td>\n",
       "      <td>authorized</td>\n",
       "      <td>not authorized</td>\n",
       "      <td>not authorized</td>\n",
       "      <td>authorized</td>\n",
       "      <td>authorized</td>\n",
       "    </tr>\n",
       "  </tbody>\n",
       "</table>\n",
       "</div>"
      ],
      "text/plain": [
       "                                   33065       85507           15287  \\\n",
       "customer_id                        33672       43823           23655   \n",
       "age                                   28          22              32   \n",
       "occupation                    journalist     manager      accountant   \n",
       "annual_salary                   60177.04    26760.95        38103.74   \n",
       "num_bank_accounts                      7           4               8   \n",
       "cards_num                              6           4               7   \n",
       "loan_interest                         11           9              16   \n",
       "days_late_payment                     10           5               3   \n",
       "qtd_late_payments                     19          10               9   \n",
       "credit_checks                          3           3               5   \n",
       "credit_mix                      Standart    Standart        Standart   \n",
       "total_debt                        765.97      244.29          129.64   \n",
       "credit_usage_fee                   29.78       29.29           29.18   \n",
       "credit_history_age                   248         229             392   \n",
       "monthly_investment                 54.83       39.83           33.98   \n",
       "final_balance_month               537.26      357.01          533.55   \n",
       "credit_score                    Standard    Standard            Poor   \n",
       "proportion_loans                    0.43         0.5             0.0   \n",
       "salary_debt_ratio                   0.01        0.01             0.0   \n",
       "delinquency_ratio                   6.33         5.0             0.0   \n",
       "salary_investment_proportion        0.01        0.02            0.01   \n",
       "credit_impact                       0.01        0.01             0.0   \n",
       "total_loans                            1           1               0   \n",
       "average_interest_loans              11.0         9.0            34.0   \n",
       "age_group                          26-35        0-25           26-35   \n",
       "salary_group                     60k-80k     20k-40k         20k-40k   \n",
       "authorized                    authorized  authorized  not authorized   \n",
       "\n",
       "                                       64797                 40749  \\\n",
       "customer_id                            31661                 13938   \n",
       "age                                       45                    37   \n",
       "occupation                            writer  maintenance mechanic   \n",
       "annual_salary                       77672.34              70709.04   \n",
       "num_bank_accounts                          3                     7   \n",
       "cards_num                                  1                     6   \n",
       "loan_interest                              2                    20   \n",
       "days_late_payment                         10                     9   \n",
       "qtd_late_payments                          4                    15   \n",
       "credit_checks                              3                     5   \n",
       "credit_mix                              Good              Standart   \n",
       "total_debt                             813.2                805.64   \n",
       "credit_usage_fee                       28.09                 34.65   \n",
       "credit_history_age                       261                   202   \n",
       "monthly_investment                      52.4                 76.58   \n",
       "final_balance_month                   347.15                320.67   \n",
       "credit_score                            Good              Standard   \n",
       "proportion_loans                         1.0                  0.86   \n",
       "salary_debt_ratio                       0.01                  0.01   \n",
       "delinquency_ratio                       1.33                   2.5   \n",
       "salary_investment_proportion            0.01                  0.01   \n",
       "credit_impact                           0.01                  0.01   \n",
       "total_loans                                1                     3   \n",
       "average_interest_loans                   2.0              6.666667   \n",
       "age_group                              36-45                 36-45   \n",
       "salary_group                         60k-80k               60k-80k   \n",
       "authorized                    not authorized            authorized   \n",
       "\n",
       "                                   20686           54129           92409  \\\n",
       "customer_id                        45457           28888           30601   \n",
       "age                                   42              40              25   \n",
       "occupation                      engineer       architect       scientist   \n",
       "annual_salary                   17158.43       116346.93         10882.8   \n",
       "num_bank_accounts                      8               0               4   \n",
       "cards_num                              7               3               4   \n",
       "loan_interest                         28               9               2   \n",
       "days_late_payment                     56               2              15   \n",
       "qtd_late_payments                     23               8              16   \n",
       "credit_checks                          6               1               4   \n",
       "credit_mix                          Poor            Good            Good   \n",
       "total_debt                       4438.41          115.22         1452.88   \n",
       "credit_usage_fee                   33.25           32.43           27.01   \n",
       "credit_history_age                   101             360             315   \n",
       "monthly_investment                 28.57          111.36           14.24   \n",
       "final_balance_month               183.57          334.41          281.89   \n",
       "credit_score                    Standard            Good            Good   \n",
       "proportion_loans                    0.88             0.0             1.0   \n",
       "salary_debt_ratio                   0.26             0.0            0.13   \n",
       "delinquency_ratio                   3.29            2.67             4.0   \n",
       "salary_investment_proportion        0.02            0.01            0.02   \n",
       "credit_impact                       0.26             0.0            0.13   \n",
       "total_loans                            4               2               2   \n",
       "average_interest_loans               7.0             4.5             1.0   \n",
       "age_group                          36-45           36-45            0-25   \n",
       "salary_group                       0-20k       100k-200k           0-20k   \n",
       "authorized                    authorized  not authorized  not authorized   \n",
       "\n",
       "                                    5617        54345  \n",
       "customer_id                         30022        1612  \n",
       "age                                    24          35  \n",
       "occupation                    businessman      writer  \n",
       "annual_salary                    11866.34    63978.72  \n",
       "num_bank_accounts                       7           7  \n",
       "cards_num                               7           7  \n",
       "loan_interest                          20          17  \n",
       "days_late_payment                      17          17  \n",
       "qtd_late_payments                      20           7  \n",
       "credit_checks                           6           7  \n",
       "credit_mix                       Standart    Standart  \n",
       "total_debt                         276.34      947.31  \n",
       "credit_usage_fee                    35.82       29.08  \n",
       "credit_history_age                    290         374  \n",
       "monthly_investment                  15.25       78.75  \n",
       "final_balance_month                 329.6      484.04  \n",
       "credit_score                     Standard    Standard  \n",
       "proportion_loans                     0.14        0.57  \n",
       "salary_debt_ratio                    0.02        0.01  \n",
       "delinquency_ratio                    20.0        1.75  \n",
       "salary_investment_proportion         0.02        0.01  \n",
       "credit_impact                        0.02        0.01  \n",
       "total_loans                             1           2  \n",
       "average_interest_loans               20.0         8.5  \n",
       "age_group                            0-25       26-35  \n",
       "salary_group                        0-20k     60k-80k  \n",
       "authorized                     authorized  authorized  "
      ]
     },
     "execution_count": 556,
     "metadata": {},
     "output_type": "execute_result"
    }
   ],
   "source": [
    "df4.sample(10).T"
   ]
  },
  {
   "cell_type": "markdown",
   "metadata": {},
   "source": [
    "# 5.0 - EXPLORATORY DATA ANALYSIS (EDA)"
   ]
  },
  {
   "cell_type": "code",
   "execution_count": 557,
   "metadata": {},
   "outputs": [],
   "source": [
    "df5 = df4.copy()"
   ]
  },
  {
   "cell_type": "markdown",
   "metadata": {},
   "source": [
    "## 5.1 - UNIVARIATE ANALYSIS"
   ]
  },
  {
   "cell_type": "code",
   "execution_count": 558,
   "metadata": {},
   "outputs": [
    {
     "data": {
      "image/png": "[encoded data removed]",
      "text/plain": [
       "<Figure size 2500x1800 with 25 Axes>"
      ]
     },
     "metadata": {},
     "output_type": "display_data"
    }
   ],
   "source": [
    "df5.hist(figsize=(25,18), bins = 30)\n",
    "plt.show()"
   ]
  },
  {
   "cell_type": "code",
   "execution_count": null,
   "metadata": {},
   "outputs": [],
   "source": []
  },
  {
   "cell_type": "code",
   "execution_count": null,
   "metadata": {},
   "outputs": [],
   "source": []
  },
  {
   "cell_type": "code",
   "execution_count": null,
   "metadata": {},
   "outputs": [],
   "source": []
  },
  {
   "cell_type": "code",
   "execution_count": null,
   "metadata": {},
   "outputs": [],
   "source": []
  },
  {
   "cell_type": "code",
   "execution_count": null,
   "metadata": {},
   "outputs": [],
   "source": []
  },
  {
   "cell_type": "code",
   "execution_count": null,
   "metadata": {},
   "outputs": [],
   "source": []
  },
  {
   "cell_type": "code",
   "execution_count": null,
   "metadata": {},
   "outputs": [],
   "source": []
  },
  {
   "cell_type": "code",
   "execution_count": null,
   "metadata": {},
   "outputs": [],
   "source": []
  }
 ],
 "metadata": {
  "kernelspec": {
   "display_name": "credit",
   "language": "python",
   "name": "python3"
  },
  "language_info": {
   "codemirror_mode": {
    "name": "ipython",
    "version": 3
   },
   "file_extension": ".py",
   "mimetype": "text/x-python",
   "name": "python",
   "nbconvert_exporter": "python",
   "pygments_lexer": "ipython3",
   "version": "3.12.1"
  }
 },
 "nbformat": 4,
 "nbformat_minor": 2
}
